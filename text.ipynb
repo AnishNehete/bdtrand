{
 "cells": [
  {
   "cell_type": "code",
   "execution_count": 9,
   "metadata": {},
   "outputs": [],
   "source": [
    "import pymongo"
   ]
  },
  {
   "cell_type": "code",
   "execution_count": 10,
   "metadata": {},
   "outputs": [
    {
     "name": "stdout",
     "output_type": "stream",
     "text": [
      "['admin', 'config', 'local', 'niharika', 'test']\n"
     ]
    }
   ],
   "source": [
    "cl = pymongo.MongoClient(\"mongodb://localhost:27017/\")\n",
    "print(cl.list_database_names())"
   ]
  },
  {
   "cell_type": "code",
   "execution_count": 11,
   "metadata": {},
   "outputs": [],
   "source": [
    "from pymongo import MongoClient\n",
    "\n",
    "#Creating a pymongo client\n",
    "client = MongoClient('localhost', 27017)\n",
    "#switching to the database- niharika \n",
    "db=client['niharika']\n",
    "coll=db['stud']"
   ]
  },
  {
   "cell_type": "code",
   "execution_count": 12,
   "metadata": {},
   "outputs": [
    {
     "name": "stdout",
     "output_type": "stream",
     "text": [
      "2\n"
     ]
    }
   ],
   "source": [
    "a=input(\"Enter number\")\n",
    "print(a)"
   ]
  },
  {
   "cell_type": "code",
   "execution_count": 6,
   "metadata": {},
   "outputs": [
    {
     "name": "stdout",
     "output_type": "stream",
     "text": [
      "Enter student details\n",
      "{'id': '12', 'name': 'Niharika', 'branch': 'ECE', 'age': '22', 'address': {'city': 'Mumbai', 'pincode': 410001}, 'subjects': [{'name': 'TOC', 'score': 89}, {'name': 'CN', 'score': 99}, {'name': 'DBMS', 'score': 99}], 'interests': ['Reading', 'Coding', 'Music']}\n"
     ]
    }
   ],
   "source": [
    "n=input(\"Enter the details of number of students to be added:\")\n",
    "nn=int(n)\n",
    "print(\"Enter student details\")\n",
    "for i in range(0,nn):\n",
    "  id=input(\"Enter student id\")\n",
    "  name=input(\"Name: \")\n",
    "  branch=input(\"Branch\")\n",
    "  age=input(\"Age: \")\n",
    "  sub1Name=input(\"Enter subject 1 name\")\n",
    "  sub1Score=input(\"Enter subject1 score\")\n",
    "  sub2Name=input(\"Enter subject 2 name\")\n",
    "  sub2Score=input(\"Enter subject2 score\")\n",
    "  \n",
    "d={\"id\": id,\"name\": name, \"branch\": branch, \"age\": age,\n",
    "  \"address\": {\"city\": \"Mumbai\", \"pincode\": 410001},\n",
    "  \"subjects\": [{\"name\": \"TOC\", \"score\": 89},\n",
    "    { \"name\": \"CN\",\"score\": 99 },\n",
    "    {\"name\": \"DBMS\", \"score\": 99 }],\n",
    " \"interests\": [\"Reading\",\"Coding\",\"Music\"]}\n",
    "\n",
    "print(d)\n",
    "\n"
   ]
  },
  {
   "cell_type": "code",
   "execution_count": 14,
   "metadata": {},
   "outputs": [],
   "source": [
    "coll=db['stud']\n",
    "r=coll.insert_one(d)"
   ]
  },
  {
   "cell_type": "code",
   "execution_count": null,
   "metadata": {},
   "outputs": [],
   "source": [
    "data={\"id\": 4,\"name\": \"Samira\", \"branch\": \"Civil\", \"age\": 22,\n",
    "  \"address\": {\"city\": \"Mumbai\", \"pincode\": 410001},\n",
    "  \"subjects\": [{\"name\": \"TOC\", \"score\": 89},\n",
    "    { \"name\": \"CN\",\"score\": 99 },\n",
    "    {\"name\": \"DBMS\", \"score\": 99 }],\n",
    " \"interests\": [\"Reading\",\"Coding\",\"Music\"]}\n",
    "\n",
    "res=coll.insert_one(data)"
   ]
  }
 ],
 "metadata": {
  "kernelspec": {
   "display_name": "Python 3.9.13 64-bit (microsoft store)",
   "language": "python",
   "name": "python3"
  },
  "language_info": {
   "codemirror_mode": {
    "name": "ipython",
    "version": 3
   },
   "file_extension": ".py",
   "mimetype": "text/x-python",
   "name": "python",
   "nbconvert_exporter": "python",
   "pygments_lexer": "ipython3",
   "version": "3.9.13"
  },
  "orig_nbformat": 4,
  "vscode": {
   "interpreter": {
    "hash": "a1d742581c8ac6556d3a74ce7262d0092d05ffcf1451c57f9ec66e321d70cdc0"
   }
  }
 },
 "nbformat": 4,
 "nbformat_minor": 2
}
